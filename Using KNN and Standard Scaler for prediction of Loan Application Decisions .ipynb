{
 "cells": [
  {
   "cell_type": "markdown",
   "metadata": {},
   "source": [
    "# Using Machine Learning to predict loan application decisions"
   ]
  },
  {
   "cell_type": "markdown",
   "metadata": {},
   "source": [
    "### Loading Public Dataset from Lending Club, San Francisco"
   ]
  },
  {
   "cell_type": "code",
   "execution_count": null,
   "metadata": {},
   "outputs": [],
   "source": [
    "import pandas as pd # Loading the datasets with only specific variables that are needed\n",
    "accepted = pd.read_csv('LoanStats3a.csv',dtype = object)[['loan_amnt',\n",
    "                                                          'dti','zip_code','addr_state','emp_length']]\n",
    "rejected = pd.read_csv('RejectStatsA.csv',dtype = object)[['Amount Requested',\n",
    "                                                           'Debt-To-Income Ratio',\n",
    "                                                           'Zip Code','State','Employment Length']]"
   ]
  },
  {
   "cell_type": "code",
   "execution_count": 3,
   "metadata": {},
   "outputs": [
    {
     "data": {
      "text/html": [
       "<div>\n",
       "<style scoped>\n",
       "    .dataframe tbody tr th:only-of-type {\n",
       "        vertical-align: middle;\n",
       "    }\n",
       "\n",
       "    .dataframe tbody tr th {\n",
       "        vertical-align: top;\n",
       "    }\n",
       "\n",
       "    .dataframe thead th {\n",
       "        text-align: right;\n",
       "    }\n",
       "</style>\n",
       "<table border=\"1\" class=\"dataframe\">\n",
       "  <thead>\n",
       "    <tr style=\"text-align: right;\">\n",
       "      <th></th>\n",
       "      <th>loan_amnt</th>\n",
       "      <th>dti</th>\n",
       "      <th>zip_code</th>\n",
       "      <th>addr_state</th>\n",
       "      <th>emp_length</th>\n",
       "    </tr>\n",
       "  </thead>\n",
       "  <tbody>\n",
       "    <tr>\n",
       "      <th>0</th>\n",
       "      <td>5000</td>\n",
       "      <td>27.65</td>\n",
       "      <td>860xx</td>\n",
       "      <td>AZ</td>\n",
       "      <td>10+ years</td>\n",
       "    </tr>\n",
       "    <tr>\n",
       "      <th>1</th>\n",
       "      <td>2500</td>\n",
       "      <td>1</td>\n",
       "      <td>309xx</td>\n",
       "      <td>GA</td>\n",
       "      <td>&lt; 1 year</td>\n",
       "    </tr>\n",
       "    <tr>\n",
       "      <th>2</th>\n",
       "      <td>2400</td>\n",
       "      <td>8.72</td>\n",
       "      <td>606xx</td>\n",
       "      <td>IL</td>\n",
       "      <td>10+ years</td>\n",
       "    </tr>\n",
       "    <tr>\n",
       "      <th>3</th>\n",
       "      <td>10000</td>\n",
       "      <td>20</td>\n",
       "      <td>917xx</td>\n",
       "      <td>CA</td>\n",
       "      <td>10+ years</td>\n",
       "    </tr>\n",
       "    <tr>\n",
       "      <th>4</th>\n",
       "      <td>3000</td>\n",
       "      <td>17.94</td>\n",
       "      <td>972xx</td>\n",
       "      <td>OR</td>\n",
       "      <td>1 year</td>\n",
       "    </tr>\n",
       "  </tbody>\n",
       "</table>\n",
       "</div>"
      ],
      "text/plain": [
       "  loan_amnt    dti zip_code addr_state emp_length\n",
       "0      5000  27.65    860xx         AZ  10+ years\n",
       "1      2500      1    309xx         GA   < 1 year\n",
       "2      2400   8.72    606xx         IL  10+ years\n",
       "3     10000     20    917xx         CA  10+ years\n",
       "4      3000  17.94    972xx         OR     1 year"
      ]
     },
     "execution_count": 3,
     "metadata": {},
     "output_type": "execute_result"
    }
   ],
   "source": [
    "accepted.head()"
   ]
  },
  {
   "cell_type": "code",
   "execution_count": 4,
   "metadata": {},
   "outputs": [
    {
     "data": {
      "text/html": [
       "<div>\n",
       "<style scoped>\n",
       "    .dataframe tbody tr th:only-of-type {\n",
       "        vertical-align: middle;\n",
       "    }\n",
       "\n",
       "    .dataframe tbody tr th {\n",
       "        vertical-align: top;\n",
       "    }\n",
       "\n",
       "    .dataframe thead th {\n",
       "        text-align: right;\n",
       "    }\n",
       "</style>\n",
       "<table border=\"1\" class=\"dataframe\">\n",
       "  <thead>\n",
       "    <tr style=\"text-align: right;\">\n",
       "      <th></th>\n",
       "      <th>Amount Requested</th>\n",
       "      <th>Debt-To-Income Ratio</th>\n",
       "      <th>Zip Code</th>\n",
       "      <th>State</th>\n",
       "      <th>Employment Length</th>\n",
       "    </tr>\n",
       "  </thead>\n",
       "  <tbody>\n",
       "    <tr>\n",
       "      <th>0</th>\n",
       "      <td>1500</td>\n",
       "      <td>0%</td>\n",
       "      <td>333xx</td>\n",
       "      <td>FL</td>\n",
       "      <td>2 years</td>\n",
       "    </tr>\n",
       "    <tr>\n",
       "      <th>1</th>\n",
       "      <td>3000</td>\n",
       "      <td>26.22%</td>\n",
       "      <td>135xx</td>\n",
       "      <td>NY</td>\n",
       "      <td>&lt; 1 year</td>\n",
       "    </tr>\n",
       "    <tr>\n",
       "      <th>2</th>\n",
       "      <td>5000</td>\n",
       "      <td>25.68%</td>\n",
       "      <td>945xx</td>\n",
       "      <td>CA</td>\n",
       "      <td>5 years</td>\n",
       "    </tr>\n",
       "    <tr>\n",
       "      <th>3</th>\n",
       "      <td>9000</td>\n",
       "      <td>45.02%</td>\n",
       "      <td>422xx</td>\n",
       "      <td>KY</td>\n",
       "      <td>&lt; 1 year</td>\n",
       "    </tr>\n",
       "    <tr>\n",
       "      <th>4</th>\n",
       "      <td>30000</td>\n",
       "      <td>1.07%</td>\n",
       "      <td>331xx</td>\n",
       "      <td>FL</td>\n",
       "      <td>&lt; 1 year</td>\n",
       "    </tr>\n",
       "  </tbody>\n",
       "</table>\n",
       "</div>"
      ],
      "text/plain": [
       "  Amount Requested Debt-To-Income Ratio Zip Code State Employment Length\n",
       "0             1500                   0%    333xx    FL           2 years\n",
       "1             3000               26.22%    135xx    NY          < 1 year\n",
       "2             5000               25.68%    945xx    CA           5 years\n",
       "3             9000               45.02%    422xx    KY          < 1 year\n",
       "4            30000                1.07%    331xx    FL          < 1 year"
      ]
     },
     "execution_count": 4,
     "metadata": {},
     "output_type": "execute_result"
    }
   ],
   "source": [
    "rejected = rejected.sample(frac=len(accepted)/len(rejected)).reset_index(drop=True)\n",
    "rejected.head() # Adjusting the indexes before we concatenate the data together"
   ]
  },
  {
   "cell_type": "code",
   "execution_count": 5,
   "metadata": {},
   "outputs": [
    {
     "name": "stdout",
     "output_type": "stream",
     "text": [
      "42538 42538\n"
     ]
    }
   ],
   "source": [
    "print(len(accepted), len(rejected)) # balanced dataset"
   ]
  },
  {
   "cell_type": "markdown",
   "metadata": {},
   "source": [
    "### Data Cleaning and Consolidation"
   ]
  },
  {
   "cell_type": "code",
   "execution_count": 6,
   "metadata": {},
   "outputs": [
    {
     "data": {
      "text/html": [
       "<div>\n",
       "<style scoped>\n",
       "    .dataframe tbody tr th:only-of-type {\n",
       "        vertical-align: middle;\n",
       "    }\n",
       "\n",
       "    .dataframe tbody tr th {\n",
       "        vertical-align: top;\n",
       "    }\n",
       "\n",
       "    .dataframe thead th {\n",
       "        text-align: right;\n",
       "    }\n",
       "</style>\n",
       "<table border=\"1\" class=\"dataframe\">\n",
       "  <thead>\n",
       "    <tr style=\"text-align: right;\">\n",
       "      <th></th>\n",
       "      <th>Amount Requested</th>\n",
       "      <th>Debt-To-Income Ratio</th>\n",
       "      <th>Zip Code</th>\n",
       "      <th>State</th>\n",
       "      <th>Employment Length</th>\n",
       "      <th>Accepted</th>\n",
       "    </tr>\n",
       "  </thead>\n",
       "  <tbody>\n",
       "    <tr>\n",
       "      <th>0</th>\n",
       "      <td>5000</td>\n",
       "      <td>27.65</td>\n",
       "      <td>860xx</td>\n",
       "      <td>AZ</td>\n",
       "      <td>10+ years</td>\n",
       "      <td>1</td>\n",
       "    </tr>\n",
       "    <tr>\n",
       "      <th>1</th>\n",
       "      <td>2500</td>\n",
       "      <td>1</td>\n",
       "      <td>309xx</td>\n",
       "      <td>GA</td>\n",
       "      <td>&lt; 1 year</td>\n",
       "      <td>1</td>\n",
       "    </tr>\n",
       "    <tr>\n",
       "      <th>2</th>\n",
       "      <td>2400</td>\n",
       "      <td>8.72</td>\n",
       "      <td>606xx</td>\n",
       "      <td>IL</td>\n",
       "      <td>10+ years</td>\n",
       "      <td>1</td>\n",
       "    </tr>\n",
       "    <tr>\n",
       "      <th>3</th>\n",
       "      <td>10000</td>\n",
       "      <td>20</td>\n",
       "      <td>917xx</td>\n",
       "      <td>CA</td>\n",
       "      <td>10+ years</td>\n",
       "      <td>1</td>\n",
       "    </tr>\n",
       "    <tr>\n",
       "      <th>4</th>\n",
       "      <td>3000</td>\n",
       "      <td>17.94</td>\n",
       "      <td>972xx</td>\n",
       "      <td>OR</td>\n",
       "      <td>1 year</td>\n",
       "      <td>1</td>\n",
       "    </tr>\n",
       "  </tbody>\n",
       "</table>\n",
       "</div>"
      ],
      "text/plain": [
       "  Amount Requested Debt-To-Income Ratio Zip Code State Employment Length  \\\n",
       "0             5000                27.65    860xx    AZ         10+ years   \n",
       "1             2500                    1    309xx    GA          < 1 year   \n",
       "2             2400                 8.72    606xx    IL         10+ years   \n",
       "3            10000                   20    917xx    CA         10+ years   \n",
       "4             3000                17.94    972xx    OR            1 year   \n",
       "\n",
       "   Accepted  \n",
       "0         1  \n",
       "1         1  \n",
       "2         1  \n",
       "3         1  \n",
       "4         1  "
      ]
     },
     "execution_count": 6,
     "metadata": {},
     "output_type": "execute_result"
    }
   ],
   "source": [
    "accepted_final = accepted.rename(columns={'loan_amnt': 'Amount Requested','dti':'Debt-To-Income Ratio','zip_code':'Zip Code','addr_state':'State','emp_length':'Employment Length'})\n",
    "\n",
    "accepted_1 = [1 for i in range(len(accepted_final))]\n",
    "accepted_final['Accepted'] = pd.Series(accepted_1, index=accepted_final.index)\n",
    "accepted_final.head() # Pre processing the names so that concatenation is error-free\n"
   ]
  },
  {
   "cell_type": "code",
   "execution_count": 7,
   "metadata": {},
   "outputs": [],
   "source": [
    "accepted_0 = [0 for i in range(len(rejected))]\n",
    "rejected['Accepted'] = pd.Series(accepted_0, index=rejected.index)\n",
    "rejected.index = range(len(accepted_final), len(accepted_final) + len(rejected))"
   ]
  },
  {
   "cell_type": "code",
   "execution_count": 8,
   "metadata": {},
   "outputs": [
    {
     "data": {
      "text/html": [
       "<div>\n",
       "<style scoped>\n",
       "    .dataframe tbody tr th:only-of-type {\n",
       "        vertical-align: middle;\n",
       "    }\n",
       "\n",
       "    .dataframe tbody tr th {\n",
       "        vertical-align: top;\n",
       "    }\n",
       "\n",
       "    .dataframe thead th {\n",
       "        text-align: right;\n",
       "    }\n",
       "</style>\n",
       "<table border=\"1\" class=\"dataframe\">\n",
       "  <thead>\n",
       "    <tr style=\"text-align: right;\">\n",
       "      <th></th>\n",
       "      <th>Amount Requested</th>\n",
       "      <th>Debt-To-Income Ratio</th>\n",
       "      <th>Zip Code</th>\n",
       "      <th>State</th>\n",
       "      <th>Employment Length</th>\n",
       "      <th>Accepted</th>\n",
       "    </tr>\n",
       "  </thead>\n",
       "  <tbody>\n",
       "    <tr>\n",
       "      <th>0</th>\n",
       "      <td>5000</td>\n",
       "      <td>27.65</td>\n",
       "      <td>860xx</td>\n",
       "      <td>AZ</td>\n",
       "      <td>10+ years</td>\n",
       "      <td>1</td>\n",
       "    </tr>\n",
       "    <tr>\n",
       "      <th>1</th>\n",
       "      <td>2500</td>\n",
       "      <td>1</td>\n",
       "      <td>309xx</td>\n",
       "      <td>GA</td>\n",
       "      <td>&lt; 1 year</td>\n",
       "      <td>1</td>\n",
       "    </tr>\n",
       "    <tr>\n",
       "      <th>2</th>\n",
       "      <td>2400</td>\n",
       "      <td>8.72</td>\n",
       "      <td>606xx</td>\n",
       "      <td>IL</td>\n",
       "      <td>10+ years</td>\n",
       "      <td>1</td>\n",
       "    </tr>\n",
       "    <tr>\n",
       "      <th>3</th>\n",
       "      <td>10000</td>\n",
       "      <td>20</td>\n",
       "      <td>917xx</td>\n",
       "      <td>CA</td>\n",
       "      <td>10+ years</td>\n",
       "      <td>1</td>\n",
       "    </tr>\n",
       "    <tr>\n",
       "      <th>4</th>\n",
       "      <td>3000</td>\n",
       "      <td>17.94</td>\n",
       "      <td>972xx</td>\n",
       "      <td>OR</td>\n",
       "      <td>1 year</td>\n",
       "      <td>1</td>\n",
       "    </tr>\n",
       "  </tbody>\n",
       "</table>\n",
       "</div>"
      ],
      "text/plain": [
       "  Amount Requested Debt-To-Income Ratio Zip Code State Employment Length  \\\n",
       "0             5000                27.65    860xx    AZ         10+ years   \n",
       "1             2500                    1    309xx    GA          < 1 year   \n",
       "2             2400                 8.72    606xx    IL         10+ years   \n",
       "3            10000                   20    917xx    CA         10+ years   \n",
       "4             3000                17.94    972xx    OR            1 year   \n",
       "\n",
       "   Accepted  \n",
       "0         1  \n",
       "1         1  \n",
       "2         1  \n",
       "3         1  \n",
       "4         1  "
      ]
     },
     "execution_count": 8,
     "metadata": {},
     "output_type": "execute_result"
    }
   ],
   "source": [
    "frames = (accepted_final,rejected)\n",
    "dataset = pd.concat(frames)\n",
    "dataset.head() # Concatenated Dataset of accepted and rejected applicants"
   ]
  },
  {
   "cell_type": "markdown",
   "metadata": {},
   "source": [
    "### Data Pre-Processing for ML purposes"
   ]
  },
  {
   "cell_type": "code",
   "execution_count": 9,
   "metadata": {},
   "outputs": [],
   "source": [
    "# Data pre-processing for removing records that are empty or not in the right format\n",
    "\n",
    "indexes = [] # We maintain a list of indexes that we'll be using to extract the clean dataset\n",
    "\n",
    "# These algorithms also help us understand how the cleaning needs to be done without creating any errors. \n",
    "\n",
    "for i in range(0,len(dataset)):\n",
    "    \n",
    "    emp_length = dataset['Employment Length'][i]\n",
    "    zip_code = str(dataset['Zip Code'][i])[0:3]\n",
    "    \n",
    "    if emp_length == 'n/a' or zip_code == 'nan' or type(emp_length) == int or type(emp_length) == float:\n",
    "        continue\n",
    "    \n",
    "    elif emp_length[0] == '<':\n",
    "        indexes.append(i)\n",
    "    \n",
    "    elif emp_length[0:2] == '10':\n",
    "        indexes.append(i)\n",
    "        \n",
    "    else:\n",
    "        indexes.append(i)\n",
    "\n",
    "for i in range(len(dataset['State'])):\n",
    "    element = dataset['State'][i]\n",
    "    \n",
    "    if type(element) == float:\n",
    "        if i in indexes:\n",
    "            indexes.remove(i)\n",
    "\n",
    "from sklearn.preprocessing import LabelEncoder\n",
    "\n",
    "encode2 = LabelEncoder()\n",
    "states = encode2.fit_transform(list(dataset['State']))"
   ]
  },
  {
   "cell_type": "code",
   "execution_count": 10,
   "metadata": {},
   "outputs": [
    {
     "data": {
      "text/plain": [
       "array(['AK', 'AL', 'AR', 'AZ', 'CA', 'CO', 'CT', 'DC', 'DE', 'FL', 'GA',\n",
       "       'HI', 'IA', 'ID', 'IL', 'IN', 'KS', 'KY', 'LA', 'MA', 'MD', 'ME',\n",
       "       'MI', 'MN', 'MO', 'MS', 'MT', 'NC', 'ND', 'NE', 'NH', 'NJ', 'NM',\n",
       "       'NV', 'NY', 'OH', 'OK', 'OR', 'PA', 'RI', 'SC', 'SD', 'TN', 'TX',\n",
       "       'UT', 'VA', 'VT', 'WA', 'WI', 'WV', 'WY', 'nan'], dtype='<U3')"
      ]
     },
     "execution_count": 10,
     "metadata": {},
     "output_type": "execute_result"
    }
   ],
   "source": [
    "encode2.classes_ # By encoding the states, we can also see there is a 'nan' that we don't need. We've recorded the indexes for that record"
   ]
  },
  {
   "cell_type": "code",
   "execution_count": 11,
   "metadata": {},
   "outputs": [],
   "source": [
    "dti = [] # Evaluating the DTI ratios and cleaning them\n",
    "types = []\n",
    "\n",
    "data = list(dataset['Debt-To-Income Ratio'])\n",
    "\n",
    "for i in data[0:len(accepted_final)]:\n",
    "    amount = float(i)\n",
    "    dti.append(amount)\n",
    "\n",
    "for i in data[len(accepted_final):]:\n",
    "    amount = i[0:len(i)-1]\n",
    "    final = float(amount)\n",
    "    dti.append(final)"
   ]
  },
  {
   "cell_type": "code",
   "execution_count": 12,
   "metadata": {},
   "outputs": [
    {
     "name": "stdout",
     "output_type": "stream",
     "text": [
      "1581\n"
     ]
    }
   ],
   "source": [
    "print(len(dataset) - len(indexes))"
   ]
  },
  {
   "cell_type": "code",
   "execution_count": 13,
   "metadata": {},
   "outputs": [],
   "source": [
    "final_dataset = [] # Structuring the final dataset. We run through the specific indexes, clean data and collect it in an array of the required shape\n",
    "final_target = []\n",
    "for i in indexes:\n",
    "    unit = []\n",
    "    unit.append(float(dataset['Amount Requested'][i]))\n",
    "    #unit.append(dti[i])\n",
    "    unit.append(float(str(dataset['Zip Code'][i])[0:3]))\n",
    "    unit.append(states[i])\n",
    "    \n",
    "    emp_length = dataset['Employment Length'][i]\n",
    "    \n",
    "    if emp_length[0] == '<':\n",
    "        unit.append(0)\n",
    "    \n",
    "    elif emp_length[0:2] == '10':\n",
    "        unit.append(10)\n",
    "        \n",
    "    else:\n",
    "        unit.append(int(emp_length[0]))\n",
    "    \n",
    "    final_dataset.append(unit)\n",
    "    final_target.append(dataset['Accepted'][i])"
   ]
  },
  {
   "cell_type": "markdown",
   "metadata": {},
   "source": [
    "### Data Structuring for Train-test split in ML Algorithms"
   ]
  },
  {
   "cell_type": "code",
   "execution_count": 14,
   "metadata": {},
   "outputs": [],
   "source": [
    "from sklearn.model_selection import train_test_split\n",
    "\n",
    "# Splitting the dataset into a training and test dataset with 90% dataset for testing\n",
    "\n",
    "X_train, X_test, y_train, y_test = train_test_split(final_dataset,final_target,test_size=0.9, stratify=final_target)\n"
   ]
  },
  {
   "cell_type": "markdown",
   "metadata": {},
   "source": [
    "### The Pipeline of models: A Standard Scaler and a KNN Classifier"
   ]
  },
  {
   "cell_type": "code",
   "execution_count": 16,
   "metadata": {},
   "outputs": [
    {
     "name": "stdout",
     "output_type": "stream",
     "text": [
      "Score 0.9847885974368188\n"
     ]
    }
   ],
   "source": [
    "from sklearn.preprocessing import StandardScaler\n",
    "from sklearn.pipeline import Pipeline\n",
    "from sklearn.neighbors import KNeighborsClassifier\n",
    "import numpy as np\n",
    "\n",
    "# Running the model in the pipeline along with a Standard Scaler\n",
    "\n",
    "model2 = KNeighborsClassifier(n_neighbors=100, weights= 'distance', algorithm= 'auto', p=2, metric= 'minkowski')\n",
    "\n",
    "steps = [('scaler', StandardScaler()), ('KNN', model2)]\n",
    "pipeline = Pipeline(steps)\n",
    "y_train = np.array(y_train).reshape(len(y_train,))\n",
    "pipeline.fit(X_train, y_train)\n",
    "print('Score', pipeline.score(X_train, y_train))"
   ]
  },
  {
   "cell_type": "markdown",
   "metadata": {},
   "source": [
    "### ML Metrics and Reports"
   ]
  },
  {
   "cell_type": "code",
   "execution_count": 17,
   "metadata": {},
   "outputs": [
    {
     "name": "stdout",
     "output_type": "stream",
     "text": [
      "              precision    recall  f1-score   support\n",
      "\n",
      "           0       0.97      1.00      0.99      4207\n",
      "           1       1.00      0.97      0.98      4142\n",
      "\n",
      "   micro avg       0.98      0.98      0.98      8349\n",
      "   macro avg       0.99      0.98      0.98      8349\n",
      "weighted avg       0.99      0.98      0.98      8349\n",
      "\n",
      "[[4204    3]\n",
      " [ 124 4018]]\n"
     ]
    }
   ],
   "source": [
    "# Initial classification report and confusion matrix on the training dataset\n",
    "from sklearn.metrics import classification_report, confusion_matrix\n",
    "\n",
    "prediction = pipeline.predict(X_train)\n",
    "print(classification_report(y_train,prediction))\n",
    "print(confusion_matrix(y_train,prediction)) "
   ]
  },
  {
   "cell_type": "code",
   "execution_count": 18,
   "metadata": {},
   "outputs": [
    {
     "name": "stdout",
     "output_type": "stream",
     "text": [
      "Score 0.7881723578101296\n",
      "              precision    recall  f1-score   support\n",
      "\n",
      "           0       0.79      0.80      0.79     37865\n",
      "           1       0.79      0.78      0.78     37281\n",
      "\n",
      "   micro avg       0.79      0.79      0.79     75146\n",
      "   macro avg       0.79      0.79      0.79     75146\n",
      "weighted avg       0.79      0.79      0.79     75146\n",
      "\n",
      "[[30211  7654]\n",
      " [ 8264 29017]]\n"
     ]
    }
   ],
   "source": [
    "# classification report and confusion matrix on the test dataset\n",
    "\n",
    "prediction2 = pipeline.predict(X_test)\n",
    "\n",
    "print('Score', pipeline.score(X_test, y_test))\n",
    "print(classification_report(y_test,prediction2))\n",
    "print(confusion_matrix(y_test,prediction2))"
   ]
  },
  {
   "cell_type": "markdown",
   "metadata": {},
   "source": [
    "### Cross Validation and Prediction"
   ]
  },
  {
   "cell_type": "code",
   "execution_count": 19,
   "metadata": {},
   "outputs": [
    {
     "name": "stdout",
     "output_type": "stream",
     "text": [
      "Cross-validated scores: [0.80936415 0.80541253 0.80634731 0.80428794 0.80273087 0.78548329\n",
      " 0.7987783  0.78775901 0.77482333 0.75805486]\n"
     ]
    }
   ],
   "source": [
    "# Cross Validation and Scores for each test\n",
    "\n",
    "from sklearn.model_selection import cross_val_score, cross_val_predict\n",
    "\n",
    "scores = cross_val_score(pipeline, final_dataset, final_target, cv=10)\n",
    "\n",
    "print('Cross-validated scores:', scores)"
   ]
  },
  {
   "cell_type": "code",
   "execution_count": 20,
   "metadata": {},
   "outputs": [
    {
     "name": "stdout",
     "output_type": "stream",
     "text": [
      "Cross-validated scores:\n",
      "0.81\n",
      "0.81\n",
      "0.81\n",
      "0.8\n",
      "0.8\n",
      "0.79\n",
      "0.8\n",
      "0.79\n",
      "0.77\n",
      "0.76\n"
     ]
    }
   ],
   "source": [
    "print('Cross-validated scores:')\n",
    "for i in scores:\n",
    "    print(round(i,2))"
   ]
  },
  {
   "cell_type": "code",
   "execution_count": 21,
   "metadata": {},
   "outputs": [
    {
     "name": "stdout",
     "output_type": "stream",
     "text": [
      "              precision    recall  f1-score   support\n",
      "\n",
      "           0       0.80      0.79      0.80     42072\n",
      "           1       0.79      0.79      0.79     41423\n",
      "\n",
      "   micro avg       0.79      0.79      0.79     83495\n",
      "   macro avg       0.79      0.79      0.79     83495\n",
      "weighted avg       0.79      0.79      0.79     83495\n",
      "\n",
      "[[33417  8655]\n",
      " [ 8535 32888]]\n"
     ]
    }
   ],
   "source": [
    "# Cross Validation report - Very similar to our original test reports\n",
    "\n",
    "predictions = cross_val_predict(pipeline, final_dataset, final_target, cv=20)\n",
    "print(classification_report(final_target,predictions))\n",
    "print(confusion_matrix(final_target,predictions))"
   ]
  },
  {
   "cell_type": "markdown",
   "metadata": {},
   "source": [
    "### Comparing Accuracy over different values of the number of neighbors"
   ]
  },
  {
   "cell_type": "code",
   "execution_count": 648,
   "metadata": {},
   "outputs": [
    {
     "data": {
      "text/plain": [
       "245"
      ]
     },
     "execution_count": 648,
     "metadata": {},
     "output_type": "execute_result"
    }
   ],
   "source": [
    "# Calculating the false negatives and false positives with the number of neighbors\n",
    "\n",
    "from sklearn.metrics import precision_score, accuracy_score, recall_score\n",
    "\n",
    "false_negatives = []\n",
    "false_positives = []\n",
    "\n",
    "for i in range(1,250):\n",
    "    model = KNeighborsClassifier(n_neighbors=i, weights= 'distance', algorithm= 'auto', p=2, metric= 'minkowski')\n",
    "    steps = [('scaler', StandardScaler()), ('KNN', model)]\n",
    "    clf = Pipeline(steps)\n",
    "    clf.fit(X_train, y_train)\n",
    "    pred = clf.predict(X_test)\n",
    "    matrix = confusion_matrix(y_test,pred)\n",
    "    false_positive = matrix[0][1]\n",
    "    false_negative = matrix[1][0]\n",
    "    false_positives.append(false_positive)\n",
    "    false_negatives.append(false_negative)"
   ]
  },
  {
   "cell_type": "code",
   "execution_count": 675,
   "metadata": {},
   "outputs": [
    {
     "data": {
      "image/png": "[encoded data removed]",
      "text/plain": [
       "<Figure size 1440x720 with 1 Axes>"
      ]
     },
     "metadata": {
      "needs_background": "light"
     },
     "output_type": "display_data"
    }
   ],
   "source": [
    "# Visualising the false negatives and false positives with the number of neighbors\n",
    "\n",
    "plt.figure(figsize=(20,10))\n",
    "plt.plot(range(1,246), false_positives,label='False Positives')\n",
    "plt.plot(range(1,246), false_negatives, label='False Negatives')\n",
    "plt.axvline(100)\n",
    "plt.title('Variation of False Positives and False Negatives with Number of Neighbors')\n",
    "plt.xlabel('Number of Neighbors')\n",
    "plt.ylabel('Number')\n",
    "plt.legend()\n",
    "plt.show()"
   ]
  },
  {
   "cell_type": "markdown",
   "metadata": {},
   "source": [
    "## A user-friendly function that takes the model and makes the prediction for a given input"
   ]
  },
  {
   "cell_type": "code",
   "execution_count": 22,
   "metadata": {},
   "outputs": [],
   "source": [
    "# The Loan consultant\n",
    "# The application function collects the data with python inputs\n",
    "\n",
    "def application():\n",
    "    amount = input('What Loan Amount are you requesting ?   ')\n",
    "    print('\\n')\n",
    "    debt = input('What are your monthly debt obligations ?   ')\n",
    "    print('\\n')\n",
    "    income = input('What is your monthly income?   ')\n",
    "    print('\\n')\n",
    "    zip_code = input('Enter your ZIP Code   ')\n",
    "    print('\\n')\n",
    "    state = encode2.transform([input('Enter your State   ')])\n",
    "    print('\\n')\n",
    "    emp_length = input('How long have you been employed ? Please answer between 0 and 10   ')\n",
    "    print('\\n')\n",
    "\n",
    "    test = [[float(amount), float(debt)/float(income)*100, float(zip_code[0:3]),state,float(emp_length)]]\n",
    "    return test\n",
    "\n",
    "# The model calculates the probability based on the outcomes of the model that we've built\n",
    "#It analyses it, classifes it and then gives an appropriate outcome / graphical analysis of the applicant's situation\n",
    "\n",
    "def loan_analysis(test):\n",
    "    \n",
    "    prob = pipeline.predict_proba(test)[0][1]\n",
    "    print('For the loan request of $', str(test[0][0]), ', there is a ', str(round(prob*100,2)), \n",
    "          '% that it will be approved.')\n",
    "    if prob >= 0.90:\n",
    "        print('Your chances of loan approval are higher than 90% ! Good Luck', '\\n')\n",
    "    elif prob < 0.9 and prob > 0.5:\n",
    "        print('You have fair chances of approval. You may consider changing the amount as per your \\\n",
    "              discretion','\\n')\n",
    "        \n",
    "    if prob <= 0.5:\n",
    "        print('With your current chances, we recommend you to adjust your loan amount as per the \\\n",
    "              statistics below: ','\\n')\n",
    "        amount = int(test[0][0])\n",
    "        probabilities = []\n",
    "\n",
    "        for amnt in range(100, 2*amount):\n",
    "            probability = pipeline.predict_proba([[amnt,test[0][1], test[0][2],test[0][3],test[0][4]]])[0][1]\n",
    "            probabilities.append(probability)\n",
    "            \n",
    "        index = probabilities.index(max(probabilities))\n",
    "        threshold = range(100,2*amount)[index]\n",
    "        \n",
    "        print('The amount at which you have highest odds of approval is $', str(threshold),'\\n')\n",
    "        \n",
    "        if max(probabilities) < 0.5:\n",
    "            print('After the analysis, it has been determined that you may not be approved for a \\\n",
    "                  loan. Please read the guidelines for how to circumvent a rejection')\n",
    "        \n",
    "        \n",
    "        plt.figure(figsize=(20,10))\n",
    "        plt.plot(range(100,2*amount),probabilities)\n",
    "        plt.axvline(threshold,color='red',label='Loan Amount with highest approval odds')\n",
    "        plt.title('Variation of Loan Approval Odds with Loan Amount')\n",
    "        plt.xlabel('Loan Amount')\n",
    "        plt.ylabel('Odds of Approval')\n",
    "        plt.show()       "
   ]
  },
  {
   "cell_type": "code",
   "execution_count": null,
   "metadata": {},
   "outputs": [],
   "source": [
    "# Example of the application\n",
    "\n",
    "test = application()\n",
    "loan_analysis(test)"
   ]
  },
  {
   "cell_type": "code",
   "execution_count": null,
   "metadata": {},
   "outputs": [],
   "source": [
    "# A random test of the Loan Analysis for a weak application in San Francisco\n",
    "\n",
    "loan_analysis([[1000,0.16,'94103',encode2.transform(['CA']),7]])"
   ]
  }
 ],
 "metadata": {
  "kernelspec": {
   "display_name": "Python 3",
   "language": "python",
   "name": "python3"
  },
  "language_info": {
   "codemirror_mode": {
    "name": "ipython",
    "version": 3
   },
   "file_extension": ".py",
   "mimetype": "text/x-python",
   "name": "python",
   "nbconvert_exporter": "python",
   "pygments_lexer": "ipython3",
   "version": "3.7.2"
  }
 },
 "nbformat": 4,
 "nbformat_minor": 2
}
